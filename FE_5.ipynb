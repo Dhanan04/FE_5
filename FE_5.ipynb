{
 "cells": [
  {
   "cell_type": "markdown",
   "id": "076daf20",
   "metadata": {},
   "source": [
    "#Ans1.)\n",
    "\n",
    "Ordinal Encoding: Ordinal Encoding is used when the categorical variables have an inherent order or rank. It assigns numerical values to categories based on their order. For example, if we have a categorical variable \"Education Level\" with categories \"High School\", \"Bachelor's\", \"Master's\", and \"PhD\", we can assign numerical values like 1, 2, 3, and 4 respectively.\n",
    "\n",
    "Label Encoding: Label Encoding is used when the categorical variables do not have any inherent order. It simply assigns a unique numerical value to each category. For example, if we have a categorical variable \"Color\" with categories \"Red\", \"Green\", and \"Blue\", we can assign numerical values like 1, 2, and 3.\n",
    "\n",
    "Example:\n",
    "\n",
    "Suppose we have a dataset with a categorical variable \"Rating\" representing the rating of a product, with categories \"Poor\", \"Average\", \"Good\", and \"Excellent\". Since the ratings have an inherent order, we would use Ordinal Encoding to convert them into numerical values like 1, 2, 3, and 4. However, if we have another categorical variable \"Type\" representing the type of product, with categories \"Electronics\", \"Clothing\", and \"Books\", where there is no inherent order, we would use Label Encoding to convert them into numerical values like 1, 2, and 3."
   ]
  },
  {
   "cell_type": "code",
   "execution_count": null,
   "id": "888dccc7",
   "metadata": {},
   "outputs": [],
   "source": []
  },
  {
   "cell_type": "markdown",
   "id": "dcae5435",
   "metadata": {},
   "source": [
    "#Ans2.) \n",
    "\n",
    "Target Guided Ordinal Encoding is a technique used for ordinal encoding where the numerical values are assigned based on the target variable. It's particularly useful when there is a relationship between the categories and the target variable.\n",
    "\n",
    "How it works: For each category in the categorical variable, it calculates the mean of the target variable (e.g., the mean of the target variable for each category). Then, it assigns numerical values to the categories based on these means in ascending order.\n",
    "\n",
    "Example: In a machine learning project predicting customer satisfaction, we have a categorical variable \"Feedback\" with categories \"Poor\", \"Average\", \"Good\", and \"Excellent\". We can use Target Guided Ordinal Encoding to assign numerical values based on the average satisfaction score for each category. For instance, if the average satisfaction score for \"Poor\" feedback is lowest and the highest for \"Excellent\" feedback, we can assign numerical values like 1, 2, 3, and 4 respectively"
   ]
  },
  {
   "cell_type": "code",
   "execution_count": null,
   "id": "b3ccff43",
   "metadata": {},
   "outputs": [],
   "source": []
  },
  {
   "cell_type": "markdown",
   "id": "07c8727d",
   "metadata": {},
   "source": [
    "#Ans3.) \n",
    "\n",
    "Covariance is a measure that indicates the extent to which two random variables change together. It shows the direction of the linear relationship between two variables (whether they move in the same direction or opposite directions) and the magnitude of this relationship\n",
    "\n",
    "Importance: Covariance helps in understanding the relationship between two variables in a dataset. If the covariance is positive, it indicates that the variables move together (positive correlation), while a negative covariance suggests they move in opposite directions (negative correlation).\n"
   ]
  },
  {
   "cell_type": "code",
   "execution_count": null,
   "id": "b8c21c19",
   "metadata": {},
   "outputs": [],
   "source": []
  },
  {
   "cell_type": "code",
   "execution_count": 1,
   "id": "16f97612",
   "metadata": {},
   "outputs": [
    {
     "name": "stdout",
     "output_type": "stream",
     "text": [
      "Encoded Color: [2 1 0]\n",
      "Encoded Size: [2 1 0]\n",
      "Encoded Material: [2 0 1]\n"
     ]
    }
   ],
   "source": [
    "#Ans4.)\n",
    "\n",
    "from sklearn.preprocessing import LabelEncoder\n",
    "\n",
    "# Define the categorical variables\n",
    "color = ['red', 'green', 'blue']\n",
    "size = ['small', 'medium', 'large']\n",
    "material = ['wood', 'metal', 'plastic']\n",
    "\n",
    "# Initialize LabelEncoder\n",
    "label_encoder = LabelEncoder()\n",
    "\n",
    "# Fit and transform each categorical variable\n",
    "color_encoded = label_encoder.fit_transform(color)\n",
    "size_encoded = label_encoder.fit_transform(size)\n",
    "material_encoded = label_encoder.fit_transform(material)\n",
    "\n",
    "# Display the encoded values\n",
    "print(\"Encoded Color:\", color_encoded)\n",
    "print(\"Encoded Size:\", size_encoded)\n",
    "print(\"Encoded Material:\", material_encoded)\n"
   ]
  },
  {
   "cell_type": "markdown",
   "id": "061114be",
   "metadata": {},
   "source": [
    "The LabelEncoder assigns a unique numerical value to each category in the categorical variables. For example, \"red\", \"green\", and \"blue\" are encoded as 2, 1, and 0 respectively for the color variable"
   ]
  },
  {
   "cell_type": "code",
   "execution_count": null,
   "id": "4f683a08",
   "metadata": {},
   "outputs": [],
   "source": []
  },
  {
   "cell_type": "markdown",
   "id": "b2df0dd9",
   "metadata": {},
   "source": [
    "#Ans5.)\n",
    "\n",
    "To calculate the covariance matrix for the given variables (Age, Income, and Education level), you would need the dataset or values for each variable. The covariance matrix would be a 3x3 matrix since there are three variables"
   ]
  },
  {
   "cell_type": "code",
   "execution_count": 4,
   "id": "e80f557b",
   "metadata": {},
   "outputs": [
    {
     "name": "stdout",
     "output_type": "stream",
     "text": [
      "Covariance Matrix:\n",
      "[[2.50e+02 2.50e+05 6.00e+01]\n",
      " [2.50e+05 2.50e+08 6.00e+04]\n",
      " [6.00e+01 6.00e+04 1.48e+01]]\n"
     ]
    }
   ],
   "source": [
    "import numpy as np\n",
    "\n",
    "# Sample data for Age, Income, and Education Level\n",
    "age = [30, 40, 50, 60, 70]\n",
    "income = [50000, 60000, 70000, 80000, 90000]\n",
    "education_level = [12, 16, 18, 20, 22]\n",
    "\n",
    "# Calculate the covariance matrix\n",
    "data = np.array([age, income, education_level])\n",
    "covariance_matrix = np.cov(data)\n",
    "\n",
    "# Display the covariance matrix\n",
    "print(\"Covariance Matrix:\")\n",
    "print(covariance_matrix)\n"
   ]
  },
  {
   "cell_type": "markdown",
   "id": "28abd0ce",
   "metadata": {},
   "source": [
    "The covariance matrix shows the covariance between each pair of variables. The diagonal elements represent the covariance of each variable with itself (variance), while the off-diagonal elements represent the covariance between different variables"
   ]
  },
  {
   "cell_type": "code",
   "execution_count": null,
   "id": "3069742e",
   "metadata": {},
   "outputs": [],
   "source": []
  },
  {
   "cell_type": "markdown",
   "id": "20f8584e",
   "metadata": {},
   "source": [
    "#Ans6.)\n",
    "\n",
    "In a machine learning project with categorical variables like \"Gender\", \"Education Level\", and \"Employment Status\", you would choose the following encoding methods:\n",
    "\n",
    "Gender (Nominal): One-hot encoding, as there is no inherent order or rank in genders.\n",
    "Education Level (Ordinal): Ordinal encoding, as there is an inherent order or rank (e.g., High School < Bachelor's < Master's < PhD).\n",
    "Employment Status (Nominal): One-hot encoding, similar to \"Gender\", as there is no inherent order or rank in employment statuses"
   ]
  },
  {
   "cell_type": "code",
   "execution_count": null,
   "id": "2b2404ae",
   "metadata": {},
   "outputs": [],
   "source": []
  },
  {
   "cell_type": "code",
   "execution_count": 8,
   "id": "8f49b89c",
   "metadata": {},
   "outputs": [
    {
     "name": "stdout",
     "output_type": "stream",
     "text": [
      "Covariance Matrix:\n",
      "[[10.2  22.5   1.75 -1.3 ]\n",
      " [22.5  62.5   1.25 -5.  ]\n",
      " [ 1.75  1.25  1.    0.25]\n",
      " [-1.3  -5.    0.25  0.7 ]]\n"
     ]
    }
   ],
   "source": [
    "#Ans7.) \n",
    "\n",
    "import numpy as np\n",
    "\n",
    "# Sample data\n",
    "temperature = [25, 28, 30, 22, 24]\n",
    "humidity = [60, 65, 70, 55, 50]\n",
    "# Assuming ordinal encoding for weather condition and wind direction\n",
    "weather_condition = [0, 1, 2, 0, 2]  # 0: Sunny, 1: Cloudy, 2: Rainy\n",
    "wind_direction = [0, 1, 0, 1, 2]  # 0: North, 1: South, 2: East\n",
    "\n",
    "# Concatenate all variables\n",
    "data = np.array([temperature, humidity, weather_condition, wind_direction])\n",
    "\n",
    "# Calculate covariance matrix\n",
    "covariance_matrix = np.cov(data)\n",
    "\n",
    "# Display covariance matrix\n",
    "print(\"Covariance Matrix:\")\n",
    "print(covariance_matrix)\n"
   ]
  },
  {
   "cell_type": "markdown",
   "id": "3365ebfd",
   "metadata": {},
   "source": [
    "Interpretation:\n",
    "\n",
    "The covariance matrix will show the covariance between each pair of variables. For example, you can interpret the covariance between \"Temperature\" and \"Humidity\" to understand how they change together. Positive covariance indicates they move in the same direction, while negative covariance suggests they move in opposite directions."
   ]
  },
  {
   "cell_type": "code",
   "execution_count": null,
   "id": "ad512853",
   "metadata": {},
   "outputs": [],
   "source": []
  },
  {
   "cell_type": "code",
   "execution_count": null,
   "id": "e775ec3b",
   "metadata": {},
   "outputs": [],
   "source": []
  }
 ],
 "metadata": {
  "kernelspec": {
   "display_name": "Python 3 (ipykernel)",
   "language": "python",
   "name": "python3"
  },
  "language_info": {
   "codemirror_mode": {
    "name": "ipython",
    "version": 3
   },
   "file_extension": ".py",
   "mimetype": "text/x-python",
   "name": "python",
   "nbconvert_exporter": "python",
   "pygments_lexer": "ipython3",
   "version": "3.11.4"
  }
 },
 "nbformat": 4,
 "nbformat_minor": 5
}
